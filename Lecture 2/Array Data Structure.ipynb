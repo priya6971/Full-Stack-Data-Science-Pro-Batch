{
 "cells": [
  {
   "cell_type": "code",
   "execution_count": 9,
   "id": "d4246146-abf4-4566-ac0f-f7f58ff8b4b3",
   "metadata": {},
   "outputs": [
    {
     "name": "stdout",
     "output_type": "stream",
     "text": [
      "282\n"
     ]
    }
   ],
   "source": [
    "## Method definition of the sum function\n",
    "## Time complexity: O(n)\n",
    "## Space complexity: O(1)\n",
    "\n",
    "def summation(arr):\n",
    "    n = len(arr)\n",
    "    sumVal = 0\n",
    "    for i in range(n):\n",
    "        sumVal += arr[i]\n",
    "    return sumVal\n",
    "\n",
    "## Driver code\n",
    "arr = [23, 34, 64, 12, 25, 56, 68]\n",
    "result = summation(arr)\n",
    "print(result)"
   ]
  },
  {
   "cell_type": "code",
   "execution_count": 4,
   "id": "fb0fab29-fbc5-4309-bf95-e09287476065",
   "metadata": {},
   "outputs": [],
   "source": [
    "## built in functions you discussed in the list session are available here as well\n",
    "arr = [23, 34, 56, 78, 89]\n",
    "arr.insert(1, 24)"
   ]
  },
  {
   "cell_type": "code",
   "execution_count": 5,
   "id": "a516f171-ceed-4954-9614-75bdc032678c",
   "metadata": {},
   "outputs": [
    {
     "data": {
      "text/plain": [
       "[23, 24, 34, 56, 78, 89]"
      ]
     },
     "execution_count": 5,
     "metadata": {},
     "output_type": "execute_result"
    }
   ],
   "source": [
    "arr"
   ]
  },
  {
   "cell_type": "code",
   "execution_count": 7,
   "id": "d54ca7c4-0e80-429f-8669-58f53a1f9c5d",
   "metadata": {},
   "outputs": [],
   "source": [
    "arr.remove(24)"
   ]
  },
  {
   "cell_type": "code",
   "execution_count": 8,
   "id": "46480f4a-dfe0-4940-9a19-5b347c69dae1",
   "metadata": {},
   "outputs": [
    {
     "data": {
      "text/plain": [
       "[23, 34, 56, 78, 89]"
      ]
     },
     "execution_count": 8,
     "metadata": {},
     "output_type": "execute_result"
    }
   ],
   "source": [
    "arr"
   ]
  },
  {
   "cell_type": "code",
   "execution_count": 12,
   "id": "caf9623b-9165-4c95-8470-8ea3320a2985",
   "metadata": {},
   "outputs": [
    {
     "name": "stdout",
     "output_type": "stream",
     "text": [
      "7\n"
     ]
    }
   ],
   "source": [
    "## Searching Algorithms\n",
    "## time complexity: O(n)\n",
    "## space complexity: O(1)\n",
    "def linearSearch(arr, target):\n",
    "    for i in range(len(arr)):\n",
    "        if(arr[i] == target):\n",
    "            return i\n",
    "    ## in case element is not available in the array\n",
    "    return -1\n",
    "\n",
    "## print -1 [it indicates that the target values is not available in the array]\n",
    "## Driver code\n",
    "arr = [12, 14, 16, 18, 11, 22, 26, 29]\n",
    "target = 29\n",
    "result = linearSearch(arr, target)\n",
    "print(result)"
   ]
  },
  {
   "cell_type": "code",
   "execution_count": 15,
   "id": "48683d2e-739a-418b-864a-de774bea2fc9",
   "metadata": {},
   "outputs": [
    {
     "name": "stdout",
     "output_type": "stream",
     "text": [
      "([2, 18, 22], [5, 11, 13, 15])\n"
     ]
    }
   ],
   "source": [
    "## arr = [2, 5, 11, 13, 15, 18, 22]\n",
    "## even and odd array contaning even num and odd num\n",
    "## time complexity: O(n)\n",
    "## space complexity: O(n)\n",
    "\n",
    "## creating an external data structure[list[ to store the even and odd values\n",
    "even = []\n",
    "odd = []\n",
    "\n",
    "def evenAndodd(arr):\n",
    "    ## write your own logic\n",
    "    for i in arr:\n",
    "        if i % 2 == 0:\n",
    "            even.append(i)\n",
    "        else:\n",
    "            odd.append(i)\n",
    "    return even, odd\n",
    "\n",
    "## Driver code\n",
    "arr = [2, 5, 11, 13, 15, 18, 22]\n",
    "print(evenAndodd(arr))\n"
   ]
  },
  {
   "cell_type": "code",
   "execution_count": 17,
   "id": "0b6388fb-472a-4d58-a4a3-2db1098e34bd",
   "metadata": {},
   "outputs": [
    {
     "name": "stdout",
     "output_type": "stream",
     "text": [
      "Primary Diagonal Sum:  32\n",
      "Secondary Diagonal Sum:  31\n"
     ]
    }
   ],
   "source": [
    "## function defintion\n",
    "## priya.bhatia@pw.live\n",
    "## time complexity: O(n^2)\n",
    "## space complexity: O(1)\n",
    "\n",
    "def printDiagonalSum(arr):\n",
    "    n = len(arr)\n",
    "    primaryDiagonalSum = 0\n",
    "    secondaryDiagonalSum = 0\n",
    "    for i in range(n):\n",
    "        for j in range(n):\n",
    "            ## condition to get the elements of primary diagonal\n",
    "            if i == j:\n",
    "                primaryDiagonalSum += arr[i][j]\n",
    "            \n",
    "            ## condition to get the elements of secondary diagonal \n",
    "            if((i+j) == (n-1)):\n",
    "                secondaryDiagonalSum += arr[i][j]\n",
    "    print(\"Primary Diagonal Sum: \", primaryDiagonalSum)\n",
    "    print(\"Secondary Diagonal Sum: \", secondaryDiagonalSum)\n",
    "\n",
    "## Driver code\n",
    "arr = [[2, 4, 6], [8, 11, 13], [14, 17, 19]]\n",
    "## function calling\n",
    "printDiagonalSum(arr)"
   ]
  },
  {
   "cell_type": "code",
   "execution_count": null,
   "id": "872524cd-4a0a-47ff-8ae0-bca393a3f9ac",
   "metadata": {},
   "outputs": [],
   "source": [
    "## Properties of Logarithmic\n",
    "## Asymptotic Notations - Mathematical Idea/Intution\n",
    "## Arrays - 1D/2D Array\n",
    "## Random access - Searching and Sorting\n",
    "## Numerous coding problems[Linear Search, EvenOdd, Summation, DiagonalSum]\n",
    "## Time and Space Complexity\n",
    "## Next Session - Binary Search, Sorting Algorithms\n",
    "## Next Session - Recursion (Can't miss this session)"
   ]
  }
 ],
 "metadata": {
  "kernelspec": {
   "display_name": "Python 3 (ipykernel)",
   "language": "python",
   "name": "python3"
  },
  "language_info": {
   "codemirror_mode": {
    "name": "ipython",
    "version": 3
   },
   "file_extension": ".py",
   "mimetype": "text/x-python",
   "name": "python",
   "nbconvert_exporter": "python",
   "pygments_lexer": "ipython3",
   "version": "3.10.8"
  }
 },
 "nbformat": 4,
 "nbformat_minor": 5
}
